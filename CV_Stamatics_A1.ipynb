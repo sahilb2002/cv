{
  "nbformat": 4,
  "nbformat_minor": 0,
  "metadata": {
    "kernelspec": {
      "display_name": "Python 3",
      "language": "python",
      "name": "python3"
    },
    "language_info": {
      "codemirror_mode": {
        "name": "ipython",
        "version": 3
      },
      "file_extension": ".py",
      "mimetype": "text/x-python",
      "name": "python",
      "nbconvert_exporter": "python",
      "pygments_lexer": "ipython3",
      "version": "3.8.5"
    },
    "colab": {
      "name": "CV_Stamatics_A1.ipynb",
      "provenance": []
    }
  },
  "cells": [
    {
      "cell_type": "markdown",
      "metadata": {
        "id": "rvFM645NE-D2"
      },
      "source": [
        "# Assignment 1\n",
        "In this assignment, we will go through basic linear algebra, NumPy, and image manipulation using Python to get everyone on the same page.\n",
        "\n",
        "One of the aims of this assignment is to get you to start getting comfortable searching for useful library functions online. So in many of the functions you will implement, you will have to look up helper functions.\n",
        "\n",
        "\\\n",
        "\n",
        "## Instructions\n",
        "* This notebook contain blocks of code, you are required to complete those blocks(where required)\n",
        "* You are required to copy this notebook (\"copy to drive\" above) and complete the code.\n",
        "* For Submission, You'll be required to submit a sharable link for your copy of this notebook. (DO NOT CHANGE THE NAME OF THE FUNCTIONS)\n",
        "\n",
        "\\\n",
        "\\\n",
        "Also, I'd like to acknowledge the Stanford CS131. This assignment is highly based on the assignments from that course."
      ]
    },
    {
      "cell_type": "markdown",
      "metadata": {
        "id": "UhSVK4RoK9q5"
      },
      "source": [
        "First Let's import some dependencies"
      ]
    },
    {
      "cell_type": "code",
      "metadata": {
        "id": "cCKqyfhIE-EQ",
        "colab": {
          "base_uri": "https://localhost:8080/"
        },
        "outputId": "2de1418d-6a01-4023-d7ab-f091d4a29af0"
      },
      "source": [
        "# Imports the print function from newer versions of python\n",
        "from __future__ import print_function\n",
        "\n",
        "# Setup\n",
        "\n",
        "# The Random module implements pseudo-random number generators\n",
        "import random \n",
        "\n",
        "# Numpy is the main package for scientific computing with Python. \n",
        "# This will be one of our most used libraries in this project\n",
        "import numpy as np\n",
        "\n",
        "# The Time library helps us time code runtimes\n",
        "import time\n",
        "\n",
        "# These are for image i/o\n",
        "from PIL import Image\n",
        "from skimage import color, io\n",
        "\n",
        "\n",
        "# Matplotlib is a useful plotting library for python \n",
        "import matplotlib.pyplot as plt\n",
        "# This code is to make matplotlib figures appear inline in the\n",
        "# notebook rather than in a new window.\n",
        "%matplotlib inline\n",
        "plt.rcParams['figure.figsize'] = (10.0, 8.0) # set default size of plots\n",
        "plt.rcParams['image.interpolation'] = 'nearest'\n",
        "plt.rcParams['image.cmap'] = 'gray'\n",
        "\n",
        "\n",
        "# Some more magic so that the notebook will reload external python modules;\n",
        "# see http://stackoverflow.com/questions/1907993/autoreload-of-modules-in-ipython\n",
        "%load_ext autoreload\n",
        "%autoreload 2\n",
        "%reload_ext autoreload"
      ],
      "execution_count": null,
      "outputs": []
    },
    {
      "cell_type": "markdown",
      "metadata": {
        "collapsed": true,
        "id": "QLtp15rqE-EU"
      },
      "source": [
        "# Part 1: Linear Algebra and NumPy Review\n",
        "In this section, we will review linear algebra and learn how to use vectors and matrices in python using numpy."
      ]
    },
    {
      "cell_type": "markdown",
      "metadata": {
        "id": "E8HDYpc0E-EV"
      },
      "source": [
        "## Part 1.1 (5 points)\n",
        "First, let's test whether you can define the following matrices and vectors using numpy. Look up `np.array()` for help. In the next code block, define $M$ as a $(4, 3)$ matrix, $a$ as a $(1, 3)$ row vector and $b$ as a $(3, 1)$ column vector:\n",
        "\n",
        "$$M = \\begin{bmatrix}\n",
        "1 & 2 & 3 \\\\\n",
        "4 & 5 & 6 \\\\\n",
        "7 & 8 & 9 \\\\\n",
        "10 & 11 & 12 \\end{bmatrix}\n",
        "$$\n",
        "\n",
        "$$a = \\begin{bmatrix}\n",
        "1 & 1 & 0\n",
        "\\end{bmatrix}\n",
        "$$\n",
        "\n",
        "$$b = \\begin{bmatrix}\n",
        "-1 \\\\ 2 \\\\ 5\n",
        "\\end{bmatrix}  \n",
        "$$ "
      ]
    },
    {
      "cell_type": "code",
      "metadata": {
        "id": "mETk2NCME-EX"
      },
      "source": [
        "### YOUR CODE HERE\n",
        "M=np.array([[1,2,3],[4,5,6],[7,8,9],[10,11,12]])\n",
        "a=np.array([[1,1,0]])\n",
        "b=np.array([[-1],[2],[5]])\n",
        "pass\n",
        "### END CODE HERE\n",
        "print(\"M = \\n\", M)\n",
        "print(\"The size of M is: \", M.shape)\n",
        "print()\n",
        "print(\"a = \", a)\n",
        "print(\"The size of a is: \", a.shape)\n",
        "print()\n",
        "print(\"b = \", b)\n",
        "print(\"The size of b is: \", b.shape)"
      ],
      "execution_count": null,
      "outputs": []
    },
    {
      "cell_type": "markdown",
      "metadata": {
        "id": "rSta4NheE-EZ"
      },
      "source": [
        "## Part 1.2 (5 points)\n",
        "Implement the `dot_product()` method in and check that it returns the correct answer for $a^Tb$."
      ]
    },
    {
      "cell_type": "code",
      "metadata": {
        "id": "C5ZRjCE2MVOU"
      },
      "source": [
        "def dot_product(a, b):\n",
        "    \"\"\"Implement dot product between the two vectors: a and b.\n",
        "    (optional): While you can solve this using for loops, we recommend\n",
        "    that you look up `np.dot()` online and use that instead.\n",
        "    Args:\n",
        "        a: numpy array of shape (x, n)\n",
        "        b: numpy array of shape (n, x)\n",
        "    Returns:\n",
        "        out: numpy array of shape (x, x) (scalar if x = 1)\n",
        "    \"\"\"\n",
        "    out = None\n",
        "    out=a@b\n",
        "    if out.shape==(1,1):\n",
        "        out=out[0][0]\n",
        "    ### YOUR CODE HERE\n",
        "    pass\n",
        "    ### END YOUR CODE\n",
        "    return out"
      ],
      "execution_count": null,
      "outputs": []
    },
    {
      "cell_type": "code",
      "metadata": {
        "id": "pbLIS5vIE-Ea"
      },
      "source": [
        "# Now, let's test out this dot product. Your answer should be [[1]].\n",
        "aDotB = dot_product(a, b)\n",
        "print(aDotB)\n",
        "\n",
        "print(\"The size is: \", aDotB.shape)"
      ],
      "execution_count": null,
      "outputs": []
    },
    {
      "cell_type": "markdown",
      "metadata": {
        "id": "0rGfcRU1E-Eb"
      },
      "source": [
        "## Part 1.3 (5 points)\n",
        "Implement the `complicated_matrix_function()` method and use it to compute $(ab)Ma^T$\n",
        "\n",
        "IMPORTANT NOTE: The `complicated_matrix_function()` method expects all inputs to be two dimensional numpy arrays, as opposed to 1-D arrays.  This is an important distinction, because 2-D arrays can be transposed, while 1-D arrays cannot.\n",
        "\n",
        "To transpose a 2-D array, you can use the syntax `array.T` "
      ]
    },
    {
      "cell_type": "code",
      "metadata": {
        "id": "dglQmbuLNOk6"
      },
      "source": [
        "def complicated_matrix_function(M, a, b):\n",
        "    \"\"\"Implement (a * b) * (M * a.T).\n",
        "    (optional): Use the `dot_product(a, b)` function you wrote above\n",
        "    as a helper function.\n",
        "    Args:\n",
        "        M: numpy matrix of shape (x, n).\n",
        "        a: numpy array of shape (1, n).\n",
        "        b: numpy array of shape (n, 1).\n",
        "    Returns:\n",
        "        out: numpy matrix of shape (x, 1).\n",
        "    \"\"\"\n",
        "    out = None\n",
        "    out=(a@b)*(M@a.T)\n",
        "    # print(a@b.shape)\n",
        "    ### YOUR CODE HERE\n",
        "    pass\n",
        "    ### END YOUR CODE\n",
        "\n",
        "    return out"
      ],
      "execution_count": null,
      "outputs": []
    },
    {
      "cell_type": "code",
      "metadata": {
        "id": "da_uQQLhE-Ec"
      },
      "source": [
        "# Your answer should be $[[3], [9], [15], [21]]$ of shape(4, 1).\n",
        "ans = complicated_matrix_function(M, a, b)\n",
        "# print((a@b).shape)\n",
        "print(ans)\n",
        "print()\n",
        "print(\"The size is: \", ans.shape)"
      ],
      "execution_count": null,
      "outputs": []
    },
    {
      "cell_type": "code",
      "metadata": {
        "id": "6CWXxSSOE-Ed"
      },
      "source": [
        "M_2 = np.array(range(4)).reshape((2,2))\n",
        "a_2 = np.array([[1,1]])\n",
        "b_2 = np.array([[10, 10]]).T\n",
        "print(M_2.shape)\n",
        "print(a_2.shape)\n",
        "print(b_2.shape)\n",
        "print()\n",
        "\n",
        "# Your answer should be $[[20], [100]]$ of shape(2, 1).\n",
        "ans = complicated_matrix_function(M_2, a_2, b_2)\n",
        "print(ans)\n",
        "print()\n",
        "print(\"The size is: \", ans.shape)"
      ],
      "execution_count": null,
      "outputs": []
    },
    {
      "cell_type": "markdown",
      "metadata": {
        "id": "4fHLxLl4E-Ee"
      },
      "source": [
        "## Part 1.4 (10 points)\n",
        "Implement `eigen_decomp()` and `get_eigen_values_and_vectors()` methods. In this method, perform eigenvalue decomposition on the following matrix and return the largest k eigen values and corresponding eigen vectors (k is specified in the method calls below).\n",
        "\n",
        "$$M = \\begin{bmatrix}\n",
        "1 & 2 & 3 \\\\\n",
        "4 & 5 & 6 \\\\\n",
        "7 & 8 & 9 \\end{bmatrix}\n",
        "$$\n"
      ]
    },
    {
      "cell_type": "code",
      "metadata": {
        "id": "RfaCSoRMOIc8"
      },
      "source": [
        "def eigen_decomp(M):\n",
        "    \"\"\"Implement eigenvalue decomposition.\n",
        "    (optional): You might find the `np.linalg.eig` function useful.\n",
        "    Args:\n",
        "        matrix: numpy matrix of shape (m, n)\n",
        "    Returns:\n",
        "        w: numpy array of shape (m, m) such that the column v[:,i] is the eigenvector corresponding to the eigenvalue w[i].\n",
        "        v: Matrix where every column is an eigenvector.\n",
        "    \"\"\"\n",
        "    w = None\n",
        "    v = None\n",
        "    w,v=np.linalg.eig(M)\n",
        "    w=np.diag(w.flatten())\n",
        "    ### YOUR CODE HERE\n",
        "    pass\n",
        "    ### END YOUR CODE\n",
        "    return w, v"
      ],
      "execution_count": null,
      "outputs": []
    },
    {
      "cell_type": "code",
      "metadata": {
        "id": "YB120rb4ONBH"
      },
      "source": [
        "def get_eigen_values_and_vectors(M, k):\n",
        "    \"\"\"Return top k eigenvalues and eigenvectors of matrix M. By top k\n",
        "    here we mean the eigenvalues with the top ABSOLUTE values (lookup\n",
        "    np.argsort for a hint on how to do so.)\n",
        "    (optional): Use the `eigen_decomp(M)` function you wrote above\n",
        "    as a helper function\n",
        "    Args:\n",
        "        M: numpy matrix of shape (m, m).\n",
        "        k: number of eigen values and respective vectors to return.\n",
        "    Returns:\n",
        "        eigenvalues: list of length k containing the top k eigenvalues\n",
        "        eigenvectors: list of length k containing the top k eigenvectors\n",
        "            of shape (m,)\n",
        "    \"\"\"\n",
        "    eigenvalues = []\n",
        "    eigenvectors = []\n",
        "    evalue,evec=np.linalg.eig(M)\n",
        "    evaluemod=abs(evalue)\n",
        "    # print(evalue.shape)\n",
        "    sort=np.argsort(evaluemod)\n",
        "    evalue=evalue[sort]\n",
        "    evec=evec[:,sort]\n",
        "    eigenvalues=list(evalue[:k])\n",
        "    eigenvectors=list(evec[:,:k].T)\n",
        "    ### YOUR CODE HERE\n",
        "    pass\n",
        "    ### END YOUR CODE\n",
        "    return eigenvalues, eigenvectors"
      ],
      "execution_count": null,
      "outputs": []
    },
    {
      "cell_type": "code",
      "metadata": {
        "id": "t0_GkrJwE-Ee"
      },
      "source": [
        "# Let's define M.\n",
        "M = np.array([[1,2,3],[4,5,6],[7,8,9]])\n",
        "# w,v=np.linalg.eig(M)\n",
        "# print(w)\n",
        "\n",
        "# Now let's grab the first eigenvalue and first eigenvector.\n",
        "# You should get back a single eigenvalue and a single eigenvector.\n",
        "val, vec = get_eigen_values_and_vectors(M[:,:3], 1)\n",
        "print(\"First eigenvalue =\", val[0])\n",
        "print()\n",
        "print(\"First eigenvector =\", vec[0])\n",
        "print()\n",
        "assert len(vec) == 1\n",
        "\n",
        "# Now, let's get the first two eigenvalues and eigenvectors.\n",
        "# You should get back a list of two eigenvalues and a list of two eigenvector arrays.\n",
        "val, vec = get_eigen_values_and_vectors(M, 2)\n",
        "print(\"Eigenvalues =\", val)\n",
        "print()\n",
        "print(\"Eigenvectors =\", vec)\n",
        "assert len(vec) == 2"
      ],
      "execution_count": null,
      "outputs": []
    },
    {
      "source": [
        "## Part 1.5 (10 points) [Bonus/Optional]\n",
        "In this section, you'll implement a gaussian elimination.\n",
        "\n",
        "The algorithm to to reduce a matrix to rref using gaussian elimination contains 2 parts, First reducing the matrix to partial reduced form, then back substituting to calculate the rref. First algorithm can be summed up as:\n",
        "1. Partial pivoting: Find the kth pivot by swapping rows, to move the entry with the largest absolute value to the pivot position. This imparts computational stability to the algorithm.\n",
        "2. For each row below the pivot, calculate the factor f which makes the kth entry zero, and for every element in the row subtract the fth multiple of the corresponding element in the kth row.\n",
        "3. Repeat above steps for each unknown. We will be left with a partial r.e.f. matrix.\n",
        "\n",
        "$$\\begin{bmatrix}\n",
        "1 & 2 & 3 \\\\\n",
        "4 & 5 & 6 \\\\\n",
        "7 & 8 & 9 \\end{bmatrix}\n",
        "=>\n",
        "\\begin{bmatrix}\n",
        "7 & 8 & 9 \\\\\n",
        "4 & 5 & 6 \\\\\n",
        "1 & 2 & 3 \\end{bmatrix}\n",
        "=>\n",
        "\\begin{bmatrix}\n",
        "7 & 8 & 9 \\\\\n",
        "0 & 0.42 & 0.85 \\\\\n",
        "0 & 0.85 & 1.71 \\end{bmatrix}\n",
        "=>\n",
        "\\begin{bmatrix}\n",
        "7 & 8 & 9 \\\\\n",
        "0 & 0.85 & 1.71 \\\\\n",
        "0 & 0.45 & 0.85 \\end{bmatrix}\n",
        "=>\n",
        "\\begin{bmatrix}\n",
        "7 & 8 & 9 \\\\\n",
        "0 & 0.42 & 0.85 \\\\\n",
        "0 & 0 & -0.05 \\end{bmatrix}\n",
        "$$\n",
        "Second algorithm:\n",
        "1. Take a pivot from the last row.\n",
        "2. For each row above the pivot, calculate the factor f which makes the kth entry zero, and for every element in the row subtract the fth multiple of the corresponding element in the kth row\n",
        "3. Repeat the above step untill the matrix is in rref\n",
        "$$\\begin{bmatrix}\n",
        "7 & 8 & 0 \\\\\n",
        "0 & 0.42 & 0 \\\\\n",
        "0 & 0 & -0.05 \\end{bmatrix}\n",
        "=>\n",
        "\\begin{bmatrix}\n",
        "7 & 0 & 0 \\\\\n",
        "0 & 0.42 & 0 \\\\\n",
        "0 & 0 & -0.05 \\end{bmatrix}\n",
        "$$\n",
        "\n",
        "Steps for implementation:\n",
        "1. Complete the function `swap_rows()`\n",
        "2. Complete the function `apply_row()`\n",
        "3. Complete `forward()` and `backward()`\n",
        "4. Finally implement `rref()` using the `forward()` and `backward()`\n",
        "\n",
        "Note: You can skip this part if you want."
      ],
      "cell_type": "markdown",
      "metadata": {
        "id": "Yeh-V5x1PYz5"
      }
    },
    {
      "cell_type": "code",
      "metadata": {
        "id": "qUFujiFAPYz6"
      },
      "source": [
        "\n",
        "def swap_rows(M):\n",
        "    \"\"\"Implement row swapping to make the largest element in the pivotial column to be the first row.\n",
        "    Args:\n",
        "        matrix: numpy matrix of shape (m, n)\n",
        "    Returns:\n",
        "        Ms: matrix with swapped row\n",
        "    \"\"\"\n",
        "    Ms = None\n",
        "    ### YOUR CODE HERE\n",
        "    Ms=M.astype(np.float64)\n",
        "    flag=0\n",
        "    for j in range(M.shape[1]):\n",
        "        flag=0\n",
        "        for i in range(j,M.shape[0]):\n",
        "            if Ms[i][j]!=0:\n",
        "                flag=1\n",
        "                break\n",
        "        if flag==1:\n",
        "            t=np.copy(Ms[i][:])\n",
        "            Ms[i][:]=Ms[j][:]\n",
        "            Ms[j][:]=t\n",
        "            Ms[j][:]=Ms[j][:]/Ms[j][j]\n",
        "            for i in range(0,M.shape[0]):\n",
        "                if(i==j):\n",
        "                    continue\n",
        "                Ms[i][:]=Ms[i][:]-(Ms[i][j]/Ms[j][j])*Ms[j][:] \n",
        "    pass\n",
        "    ### END YOUR CODE\n",
        "    return Ms"
      ],
      "execution_count": null,
      "outputs": []
    },
    {
      "cell_type": "code",
      "metadata": {
        "id": "S8lbAUSWWpyO"
      },
      "source": [
        "def apply_rows(M):\n",
        "    \"\"\"For each row below the pivot, calculate the factor f which makes the kth\n",
        "    entry zero, and for every element in the row subtract the fth multiple of the\n",
        "    corresponding element in the kth row.\n",
        "    Args:\n",
        "        matrix: numpy matrix of shape (m, n)\n",
        "    Returns:\n",
        "        Ms: matrix with all other entries of the pivotal col zero\n",
        "    \"\"\"\n",
        "    Ms = None\n",
        "    ### YOUR CODE HERE\n",
        "    pass\n",
        "    ### END YOUR CODE\n",
        "    return Ms"
      ],
      "execution_count": null,
      "outputs": []
    },
    {
      "cell_type": "code",
      "metadata": {
        "id": "GnE_-JLxPYz7"
      },
      "source": [
        "def forward(M):\n",
        "    \"\"\"Return a partial ref using the algo described above\n",
        "    Args:\n",
        "        M: numpy matrix of shape (m, n).\n",
        "    Returns:\n",
        "        Ms: ref of M\n",
        "    \"\"\"\n",
        "    Ms = None\n",
        "    ### YOUR CODE HERE\n",
        "    pass\n",
        "    ### END YOUR CODE\n",
        "    return Ms"
      ],
      "execution_count": null,
      "outputs": []
    },
    {
      "cell_type": "code",
      "metadata": {
        "id": "Wb7pPGP4XmJu"
      },
      "source": [
        "def backward(M):\n",
        "    \"\"\"Return a rref using the algo described above\n",
        "    Args:\n",
        "        M: numpy matrix of shape (m, n).\n",
        "    Returns:\n",
        "        Ms: rref of M\n",
        "    \"\"\"\n",
        "    Ms = None\n",
        "    ### YOUR CODE HERE\n",
        "    pass\n",
        "    ### END YOUR CODE\n",
        "    return Ms"
      ],
      "execution_count": null,
      "outputs": []
    },
    {
      "cell_type": "code",
      "metadata": {
        "id": "XLq81xzXYR85"
      },
      "source": [
        "def rref(M):\n",
        "    \"\"\"Return a rref using the algo descrbed above\n",
        "    Args:\n",
        "        M: numpy matrix of shape (m, n).\n",
        "    Returns:\n",
        "        Ms: ref of M\n",
        "    \"\"\"\n",
        "    Ms = None\n",
        "    Ms=swap_rows(M)\n",
        "    ### YOUR CODE HERE\n",
        "    pass\n",
        "    ### END YOUR CODE\n",
        "    return Ms"
      ],
      "execution_count": null,
      "outputs": []
    },
    {
      "cell_type": "code",
      "metadata": {
        "id": "Eiz6EbsWPYz8"
      },
      "source": [
        "# Let's define M.\n",
        "M = np.array([[1,0,0],[0,0,1],[0,1,0]])\n",
        "\n",
        "# Now let's calculate it's rref.\n",
        "# Note that your code may be evaluated on other test cases as well\n",
        "Mrref = rref(M)\n",
        "print(Mrref)"
      ],
      "execution_count": null,
      "outputs": []
    },
    {
      "cell_type": "markdown",
      "metadata": {
        "id": "G46pyDzAE-Ef"
      },
      "source": [
        "## Part 1.6 (10 points)\n",
        "\n",
        "To wrap up our overview of NumPy, let's implement something fun &mdash; a helper function for computing the Euclidean distance between two $n$-dimensional points!\n",
        "\n",
        "In the 2-dimensional case, computing the Euclidean distance reduces to solving the Pythagorean theorem $c = \\sqrt{a^2 + b^2}$. where, given two points $(x_1, y_1)$ and $(x_2, y_2)$, $a = x_1 - x_2$ and $b = y_1 - y_2$.\n",
        "\n",
        "\n",
        "More generally, given two $n$-dimensional vectors, the Euclidean distance can be computed by:\n",
        "\n",
        "1. Performing an elementwise subtraction between the two vectors, to get $n$ difference values.\n",
        "2. Squaring each of the $n$ difference values, and summing the squares.\n",
        "4. Taking the square root of our sum.\n",
        "\n",
        "Alternatively, the Euclidean distance between length-$n$ vectors $u$ and $v$ can be written as:\n",
        "\n",
        "$\n",
        "\\quad\\textbf{distance}(u, v) = \\sqrt{\\sum_{i=1}^n (u_i - v_i)^2}\n",
        "$\n",
        "\n",
        "\n",
        "Try implementing this function: first using native Python with a `for` loop in the `euclidean_distance_native()` function, then in NumPy **without any loops** in the `euclidean_distance_numpy()` function.\n",
        "We've added some `assert`  statements here to help you check functionality (if it prints nothing, then your implementation is correct)!"
      ]
    },
    {
      "cell_type": "code",
      "metadata": {
        "id": "5xvHopPqO29C"
      },
      "source": [
        "def euclidean_distance_native(u, v):\n",
        "    \"\"\"Computes the Euclidean distance between two vectors, represented as Python\n",
        "    lists.\n",
        "    Args:\n",
        "        u (List[float]): A vector, represented as a list of floats.\n",
        "        v (List[float]): A vector, represented as a list of floats.\n",
        "    Returns:\n",
        "        float: Euclidean distance between `u` and `v`.\n",
        "    \"\"\"\n",
        "    # First, run some checks:\n",
        "    assert isinstance(u, list)\n",
        "    assert isinstance(v, list)\n",
        "    assert len(u) == len(v)\n",
        "\n",
        "    # Compute the distance!\n",
        "    # Notes:\n",
        "    #  1) Try breaking this problem down: first, we want to get\n",
        "    #     the difference between corresponding elements in our\n",
        "    #     input arrays. Then, we want to square these differences.\n",
        "    #     Finally, we want to sum the squares and square root the\n",
        "    #     sum.\n",
        "\n",
        "    ### YOUR CODE HERE\n",
        "    sum=0\n",
        "    for i in range(len(u)):\n",
        "        sum+=(u[i]-v[i])**2\n",
        "    pass\n",
        "    return np.sqrt(sum)\n",
        "    ### END YOUR CODE"
      ],
      "execution_count": null,
      "outputs": []
    },
    {
      "cell_type": "code",
      "metadata": {
        "id": "wvLuK8MuO3LH"
      },
      "source": [
        "def euclidean_distance_numpy(u, v):\n",
        "    \"\"\"Computes the Euclidean distance between two vectors, represented as NumPy\n",
        "    arrays.\n",
        "    Args:\n",
        "        u (np.ndarray): A vector, represented as a NumPy array.\n",
        "        v (np.ndarray): A vector, represented as a NumPy array.\n",
        "    Returns:\n",
        "        float: Euclidean distance between `u` and `v`.\n",
        "    \"\"\"\n",
        "    # First, run some checks:\n",
        "    assert isinstance(u, np.ndarray)\n",
        "    assert isinstance(v, np.ndarray)\n",
        "    assert u.shape == v.shape\n",
        "\n",
        "    # Compute the distance!\n",
        "    # Note:\n",
        "    #  1) You shouldn't need any loops\n",
        "    #  2) Some functions you can Google that might be useful:\n",
        "    #         np.sqrt(), np.sum()\n",
        "    #  3) Try breaking this problem down: first, we want to get\n",
        "    #     the difference between corresponding elements in our\n",
        "    #     input arrays. Then, we want to square these differences.\n",
        "    #     Finally, we want to sum the squares and square root the\n",
        "    #     sum.\n",
        "\n",
        "    ### YOUR CODE HERE\n",
        "    dist=np.sqrt(np.sum((u-v)**2))\n",
        "    pass\n",
        "    return dist\n",
        "    ### END YOUR CODE"
      ],
      "execution_count": null,
      "outputs": []
    },
    {
      "cell_type": "code",
      "metadata": {
        "id": "wu9MimVJE-Eg"
      },
      "source": [
        "## Testing native Python function\n",
        "assert euclidean_distance_native([7.0], [6.0]) == 1.0\n",
        "assert euclidean_distance_native([7.0, 0.0], [3.0, 3.0]) == 5.0\n",
        "assert euclidean_distance_native([7.0, 0.0, 0.0], [3.0, 0.0, 3.0]) == 5.0"
      ],
      "execution_count": null,
      "outputs": []
    },
    {
      "cell_type": "code",
      "metadata": {
        "id": "kJDk88g1E-Ej"
      },
      "source": [
        "## Testing NumPy function\n",
        "assert euclidean_distance_numpy(\n",
        "    np.array([7.0]),\n",
        "    np.array([6.0])\n",
        ") == 1.0\n",
        "assert euclidean_distance_numpy(\n",
        "    np.array([7.0, 0.0]),\n",
        "    np.array([3.0, 3.0])\n",
        ") == 5.0\n",
        "assert euclidean_distance_numpy(\n",
        "    np.array([7.0, 0.0, 0.0]),\n",
        "    np.array([3.0, 0.0, 3.0])\n",
        ") == 5.0"
      ],
      "execution_count": null,
      "outputs": []
    },
    {
      "cell_type": "markdown",
      "metadata": {
        "id": "Mjik4mQXE-Ek"
      },
      "source": [
        "Next, let's take a look at how these two implementations compare in terms of runtime:"
      ]
    },
    {
      "cell_type": "code",
      "metadata": {
        "id": "Wd61hLbPE-El"
      },
      "source": [
        "n = 1000\n",
        "\n",
        "# Create some length-n lists and/or n-dimensional arrays\n",
        "a = [0.0] * n\n",
        "b = [10.0] * n\n",
        "a_array = np.array(a)\n",
        "b_array = np.array(b)\n",
        "\n",
        "# Compute runtime for native implementation\n",
        "start_time = time.time()\n",
        "for i in range(10000):\n",
        "    euclidean_distance_native(a, b)\n",
        "print(\"Native:\", (time.time() - start_time), \"seconds\")\n",
        "\n",
        "# Compute runtime for numpy implementation\n",
        "# Start by grabbing the current time in seconds\n",
        "start_time = time.time()\n",
        "for i in range(10000):\n",
        "    euclidean_distance_numpy(a_array, b_array)\n",
        "print(\"NumPy:\", (time.time() - start_time), \"seconds\")"
      ],
      "execution_count": null,
      "outputs": []
    },
    {
      "cell_type": "markdown",
      "metadata": {
        "id": "t4e6MfhHE-Em"
      },
      "source": [
        "As you can see, doing vectorized calculations (i.e. no for loops) with NumPy results in significantly faster computations! "
      ]
    },
    {
      "cell_type": "markdown",
      "metadata": {
        "id": "N3UD0cMPE-Em"
      },
      "source": [
        "# Part 2: Image Manipulation \n",
        "\n",
        "Now that you are familiar with using matrices and vectors. Let's load some images and treat them as matrices and do some operations on them."
      ]
    },
    {
      "cell_type": "code",
      "metadata": {
        "id": "LYjjWN1hE-En"
      },
      "source": [
        "# Run this code to set the locations of the images we will be using. \n",
        "# You can change these paths to point to your own images if you want to try them out for fun.\n",
        "\n",
        "image1_path = 'https://upload.wikimedia.org/wikipedia/en/7/7d/Lenna_%28test_image%29.png'\n",
        "image2_path = 'https://upload.wikimedia.org/wikipedia/commons/thumb/3/32/OpenCV_Logo_with_text_svg_version.svg/180px-OpenCV_Logo_with_text_svg_version.svg.png'\n",
        "\n",
        "def display(img):\n",
        "    # Show image\n",
        "    plt.figure(figsize = (5,5))\n",
        "    plt.imshow(img)\n",
        "    plt.axis('off')\n",
        "    plt.show()"
      ],
      "execution_count": null,
      "outputs": []
    },
    {
      "cell_type": "markdown",
      "metadata": {
        "id": "PtKrl8sJE-Eo"
      },
      "source": [
        "## Part 2.1 (5 points)\n",
        "Implement the load method and read the display method below. We will use these two methods through the rest of the notebook to visualize our work.\n",
        "\n",
        "Note: There are multiple ways to read an image. You may use any that you like. Google about \"PIL\", \"OpenCV\" or \"skimage\"."
      ]
    },
    {
      "cell_type": "code",
      "metadata": {
        "id": "mmr-jc7oaNfQ"
      },
      "source": [
        "def load(image_path):\n",
        "    \"\"\"Loads an image from a file path.\n",
        "    HINT: Look up `skimage.io.imread()` function.\n",
        "    Args:\n",
        "        image_path: file path to the image.\n",
        "    Returns:\n",
        "        out: numpy array of shape(image_height, image_width, 3).\n",
        "    \"\"\"\n",
        "    out = None\n",
        "\n",
        "    ### YOUR CODE HERE\n",
        "    # Use skimage io.imread\n",
        "    out=io.imread(image_path)\n",
        "    pass\n",
        "    ### END YOUR CODE\n",
        "\n",
        "    # Let's convert the image to be between the correct range.\n",
        "    out = out.astype(np.float64) / 255\n",
        "    return out"
      ],
      "execution_count": null,
      "outputs": []
    },
    {
      "cell_type": "code",
      "metadata": {
        "id": "_EkwPj45E-Eo"
      },
      "source": [
        "image1 = load(image1_path)\n",
        "\n",
        "display(image1)"
      ],
      "execution_count": null,
      "outputs": []
    },
    {
      "cell_type": "markdown",
      "metadata": {
        "id": "rB3XgaMbE-Eo"
      },
      "source": [
        "## Part 2.2 (5 points)\n",
        "One of the most common operations we perform when working with images is rectangular **cropping**, or the action of removing unwanted outer areas of an image.\n",
        "\n",
        "Take a look at this code we've written to crop out a small part of the image above:"
      ]
    },
    {
      "cell_type": "code",
      "metadata": {
        "id": "aUnSN85_E-Ep"
      },
      "source": [
        "display(image1[10:60, 70:150, :])"
      ],
      "execution_count": null,
      "outputs": []
    },
    {
      "cell_type": "markdown",
      "metadata": {
        "id": "CshIp6H9E-Ep"
      },
      "source": [
        "Implement the `crop_image()` method by taking in the starting row index, starting column index, number of rows, and number of columns, and outputting the cropped image. \n",
        "\n",
        "Then, in the cell below, see if you can pull out a 100x100 square from each corner of the original `image1`: the top left, top right, bottom left, and bottom right."
      ]
    },
    {
      "cell_type": "code",
      "metadata": {
        "id": "ZC2IPKbKbkIs"
      },
      "source": [
        "def crop_image(image, start_row, start_col, num_rows, num_cols):\n",
        "    \"\"\"Crop an image based on the specified bounds.\n",
        "    Args:\n",
        "        image: numpy array of shape(image_height, image_width, 3).\n",
        "        start_row (int): The starting row index we want to include in our cropped image.\n",
        "        start_col (int): The starting column index we want to include in our cropped image.\n",
        "        num_rows (int): Number of rows in our desired cropped image.\n",
        "        num_cols (int): Number of columns in our desired cropped image.\n",
        "    Returns:\n",
        "        out: numpy array of shape(num_rows, num_cols, 3).\n",
        "    \"\"\"\n",
        "\n",
        "    out = None\n",
        "\n",
        "    ### YOUR CODE HERE\n",
        "    sr=start_row\n",
        "    sc=start_col\n",
        "    nr=num_rows\n",
        "    nc=num_cols\n",
        "    out=image[sr:sr+nr,sc:sc+nc,:]\n",
        "    pass\n",
        "    ### END YOUR CODE\n",
        "\n",
        "    return out"
      ],
      "execution_count": null,
      "outputs": []
    },
    {
      "cell_type": "code",
      "metadata": {
        "id": "2JuuKX9SE-Eq"
      },
      "source": [
        "sh=image1.shape\n",
        "top_left_corner = crop_image(image1,0,0,100,100)## Replace \"None\" with a crop_image() function call.\n",
        "top_right_corner = crop_image(image1,0,sh[1]-100,100,100) ## Replace \"None\" with a crop_image() function call.\n",
        "bottom_left_corner = crop_image(image1,sh[0]-100,0,100,100)## Replace \"None\" with a crop_image() function call.\n",
        "bottom_right_corner = crop_image(image1,sh[0]-100,sh[0]-100,100,100) ## Replace \"None\" with a crop_image() function call.\n",
        "\n",
        "display(top_left_corner)\n",
        "display(top_right_corner)\n",
        "display(bottom_left_corner)\n",
        "display(bottom_right_corner)"
      ],
      "execution_count": null,
      "outputs": []
    },
    {
      "cell_type": "markdown",
      "metadata": {
        "id": "oN23NmomE-Eq"
      },
      "source": [
        "## Part 2.3 (10 points)\n",
        "Implement the `dim_image()` method by converting images according to  $x_n = 0.5*x_p^2$ for every pixel, where $x_n$ is the new value and $x_p$ is the original value.\n",
        "\n",
        "Note: Since all the pixel values of the image are in the range $[0, 1]$, the above formula will result in reducing these pixels values and therefore make the image dimmer."
      ]
    },
    {
      "cell_type": "code",
      "metadata": {
        "id": "F-m5tu56bqo9"
      },
      "source": [
        "def dim_image(image):\n",
        "    \"\"\"Change the value of every pixel by following\n",
        "                        x_n = 0.5*x_p^2\n",
        "    where x_n is the new value and x_p is the original value.\n",
        "    Args:\n",
        "        image: numpy array of shape(image_height, image_width, 3).\n",
        "    Returns:\n",
        "        out: numpy array of shape(image_height, image_width, 3).\n",
        "    \"\"\"\n",
        "\n",
        "    out = None\n",
        "\n",
        "    ### YOUR CODE HERE\n",
        "    out=0.5*image**2\n",
        "    pass\n",
        "    ### END YOUR CODE\n",
        "\n",
        "    return out"
      ],
      "execution_count": null,
      "outputs": []
    },
    {
      "cell_type": "code",
      "metadata": {
        "id": "DsBG5Zd6E-Er"
      },
      "source": [
        "new_image = dim_image(image1)\n",
        "display(image1)\n",
        "display(new_image)\n",
        "# display(dim_image(image1,0.001))\n",
        "# display(dim_image(image1,2))"
      ],
      "execution_count": null,
      "outputs": []
    },
    {
      "cell_type": "markdown",
      "metadata": {
        "id": "ScbrIdDPE-Er"
      },
      "source": [
        "## Part 2.4 (10 points)\n",
        "Let's try another commonly used operation: image resizing!\n",
        "\n",
        "At a high level, image resizing should go something like this:\n",
        "\n",
        "1. We create an (initially empty) output array of the desired size, `output_image`\n",
        "2. We iterate over each pixel position `(i,j)` in the output image\n",
        "    - For each output pixel, we compute a corresponding input pixel `(input_i, input_j)`\n",
        "    - We assign `output_image[i, j, :]` to `input_image[input_i, input_j, :]`\n",
        "3. We return the resized output image\n",
        "\n",
        "We want `input_i` and `input_j` to increase proportionally with `i` and `j` respectively:\n",
        "\n",
        "- `input_i` can be computed as `int(i * row_scale_factor)`\n",
        "- `input_j` can be computed as `int(j * col_scale_factor)`\n",
        "\n",
        "...where `int()` is a Python operation takes a float and rounds it down to the nearest integer, and `row_scale_factor` and `col_scale_factor` are constants computed from the image input/output sizes.\n",
        "\n",
        "Try to figure out what `row_scale_factor` and `col_scale_factor` should be, then implement this algorithm in the `resize_image()` method! Then, run the cells below to test out your image resizing algorithm!"
      ]
    },
    {
      "cell_type": "code",
      "metadata": {
        "id": "ag1_dE8Yb7XX"
      },
      "source": [
        "def resize_image(input_image, output_rows, output_cols):\n",
        "    \"\"\"Resize an image using the nearest neighbor method.\n",
        "    Args:\n",
        "        input_image (np.ndarray): RGB image stored as an array, with shape\n",
        "            `(input_rows, input_cols, 3)`.\n",
        "        output_rows (int): Number of rows in our desired output image.\n",
        "        output_cols (int): Number of columns in our desired output image.\n",
        "    Returns:\n",
        "        np.ndarray: Resized image, with shape `(output_rows, output_cols, 3)`.\n",
        "    \"\"\"\n",
        "    input_rows, input_cols, channels = input_image.shape\n",
        "    assert channels == 3\n",
        "\n",
        "    # 1. Create the resized output image\n",
        "    output_image = np.zeros(shape=(output_rows, output_cols, 3))\n",
        "\n",
        "    # 2. Populate the `output_image` array using values from `input_image`\n",
        "    #    > This should require two nested for loops!\n",
        "\n",
        "    ### YOUR CODE HERE\n",
        "    row_scale_factor=input_rows/output_rows\n",
        "    col_scale_factor=input_cols/output_cols\n",
        "    for i in range(output_rows):\n",
        "        for j in range(output_cols):\n",
        "            output_image[i][j][:]=input_image[int(i*row_scale_factor)][int(j*col_scale_factor)][:]\n",
        "    pass\n",
        "    ### END YOUR CODE\n",
        "\n",
        "    # 3. Return the output image\n",
        "    return output_image"
      ],
      "execution_count": null,
      "outputs": []
    },
    {
      "cell_type": "code",
      "metadata": {
        "id": "xLQAYY2vE-Er"
      },
      "source": [
        "display(resize_image(image1, 16, 16))"
      ],
      "execution_count": null,
      "outputs": []
    },
    {
      "cell_type": "code",
      "metadata": {
        "id": "4vUEmAmiE-Es"
      },
      "source": [
        "display(resize_image(image1, 50, 400))"
      ],
      "execution_count": null,
      "outputs": []
    },
    {
      "cell_type": "markdown",
      "metadata": {
        "id": "ZzGUFCm1E-Es"
      },
      "source": [
        "**Question:** In the resize algorithm we describe above, the output is populated by iterating over the indices of the output image. Could we implement image resizing by iterating over the indices of the input image instead? How do the two approaches compare?\n",
        "\n",
        "> *Your response here!*\n",
        "I think we can do that also. the scale factors would be inverse of that used here. and we would use output [int(i*row_scale)]... = input [i][j][:]."
      ]
    },
    {
      "cell_type": "markdown",
      "metadata": {
        "id": "LFyHzJcZE-Es"
      },
      "source": [
        "## Part 2.5 (15 points)\n",
        "\n",
        "One more operation that you can try implementing is **image rotation**. This is part of a real interview question that was encountered for actual computer vision jobs (notably at Facebook), and we expect it to require quite a bit more thinking."
      ]
    },
    {
      "cell_type": "markdown",
      "metadata": {
        "id": "UHV8doLsE-Es"
      },
      "source": [
        "#### a) Rotating 2D coordinates (5 points)\n",
        "\n",
        "Before we start thinking about rotating full images, let's start by taking a look at rotating `(x, y)` coordinates:\n",
        "\n",
        "![coordinate_rotation.png](https://github.com/StanfordVL/CS131_release/blob/master/fall_2020/hw0_release/coordinate_rotation.png?raw=1)\n",
        "\n",
        "Using `np.cos()` and `np.sin()`, implement the `rotate2d()` method to compute the coordinates $(x', y')$ rotated by theta radians from $(x, y)$ using the lecture slides. \n",
        "\n",
        "Once you've implemented the function, test your implementation below using the assert statements (if it prints nothing, then your implementation is correct):"
      ]
    },
    {
      "cell_type": "code",
      "metadata": {
        "id": "8DYPuzdacToT"
      },
      "source": [
        "def rotate2d(point, theta):\n",
        "    \"\"\"Rotate a 2D coordinate by some angle theta.\n",
        "    Args:\n",
        "        point (np.ndarray): A 1D NumPy array containing two values: an x and y coordinate.\n",
        "        theta (float): An theta to rotate by, in radians.\n",
        "    Returns:\n",
        "        np.ndarray: A 1D NumPy array containing your rotated x and y values.\n",
        "    \"\"\"\n",
        "    assert point.shape == (2,)\n",
        "    assert isinstance(theta, float)\n",
        "\n",
        "    # Reminder: np.cos() and np.sin() will be useful here!\n",
        "\n",
        "    ## YOUR CODE HERE\n",
        "    rot_mat=np.array([[np.cos(theta),-1*np.sin(theta)],[np.sin(theta),np.cos(theta)]])\n",
        "    point=point.reshape([2,1])\n",
        "    new_point=rot_mat@point\n",
        "    return new_point.flatten()\n",
        "    pass\n",
        "    ### END YOUR CODE"
      ],
      "execution_count": null,
      "outputs": []
    },
    {
      "cell_type": "code",
      "metadata": {
        "id": "_u0OIQP7E-Et"
      },
      "source": [
        "assert rotate2d(np.array([1.0, 0.0]), 0.0).shape == (\n",
        "    2,\n",
        "), \"Output shape incorrect!\"\n",
        "assert np.allclose(\n",
        "    rotate2d(np.array([1.0, 0.0]), 0.0), np.array([1.0, 0.0])\n",
        "), \"\"\n",
        "assert np.allclose(\n",
        "    rotate2d(np.array([1.0, 0.0]), np.pi / 2.0), np.array([0.0, 1.0])\n",
        "), \"\""
      ],
      "execution_count": null,
      "outputs": []
    },
    {
      "cell_type": "markdown",
      "metadata": {
        "id": "QPJstvmBE-Et"
      },
      "source": [
        "Run the cell below to visualize a point as it's rotated around the origin by a set of evenly-spaced angles! You should see 30 points arranged in a circle."
      ]
    },
    {
      "cell_type": "code",
      "metadata": {
        "id": "LVDpBDz4E-Et"
      },
      "source": [
        "# Visualize a point being rotated around the origin\n",
        "# We'll use the matplotlib library for this!\n",
        "import matplotlib.pyplot as plt\n",
        "\n",
        "points = np.zeros((30, 2))\n",
        "for i in range(30):\n",
        "    points[i, :] = rotate2d(np.array([1.0, 0.0]), i / 30.0 * (2 * np.pi))\n",
        "\n",
        "plt.scatter(points[:, 0], points[:, 1])\n",
        "plt.show()"
      ],
      "execution_count": null,
      "outputs": []
    },
    {
      "source": [
        "**Question:** Our function currently only rotates input points around the origin (0,0). Using the same `rotate2d` function, how could we rotate the point around a center that wasn't at the origin? **You'll need to do this when you implement image rotation below!**\n",
        "\n",
        "> *Your response here!*\n",
        "We can use translation of origin! (I will use capital letters to denote a vector)\n",
        "Let I be the point which we want to rotate about point O, by an angle theta.\n",
        "Then the rotated point is (rotate2d(I-O,theta)+O)."
      ],
      "cell_type": "markdown",
      "metadata": {
        "id": "0RrlDtztE-Et"
      }
    },
    {
      "cell_type": "markdown",
      "metadata": {
        "id": "MQ1s1c9_E-Eu"
      },
      "source": [
        "#### b) Rotate Image (10 points)\n",
        "\n",
        "Finally, use what you've learned about 2D rotations to create and implement the `rotate_image(input_image, theta)` function!\n",
        "\n",
        "For an input angle of $\\pi/4$ (45 degrees), the expected output is:\n",
        "\n",
        "![rotated_output.png](https://github.com/StanfordVL/CS131_release/blob/master/fall_2020/hw0_release/rotated_output.png?raw=1)\n",
        "\n",
        "**Hints:**\n",
        "- We recommend basing your code off your `resize_image()` implementation, and applying the same general approach as before. Iterate over each pixel of an output image `(i, j)`, then fill in a color from a corresponding input pixel `(input_i, input_j)`. In this case, note that the output and input images should be the same size.\n",
        "- If you run into an output pixel whose corresponding input coordinates `input_i` and `input_j` that are invalid, you can just ignore that pixel or set it to black.\n",
        "- In our expected output above, we're rotating each coordinate around the center of the image, not the origin. (the origin is located at the top left)"
      ]
    },
    {
      "cell_type": "code",
      "metadata": {
        "id": "uFUeJxnCckh6"
      },
      "source": [
        "def rotate_image(input_image, theta):\n",
        "    \"\"\"Rotate an image by some angle theta.\n",
        "    Args:\n",
        "        input_image (np.ndarray): RGB image stored as an array, with shape\n",
        "            `(input_rows, input_cols, 3)`.\n",
        "        theta (float): Angle to rotate our image by, in radians.\n",
        "    Returns:\n",
        "        (np.ndarray): Rotated image, with the same shape as the input.\n",
        "    \"\"\"\n",
        "    input_rows, input_cols, channels = input_image.shape\n",
        "    assert channels == 3\n",
        "\n",
        "    # 1. Create an output image with the same shape as the input\n",
        "    output_image = np.zeros_like(input_image)\n",
        "    in_pt=np.array([0,0])\n",
        "    out_pt=np.array([0,0])\n",
        "    center=np.array([input_rows//2,input_cols//2])\n",
        "    ## YOUR CODE HERE\n",
        "    for i in range(input_rows):\n",
        "        for j in range(input_cols):\n",
        "            out_pt=np.array([i,j])\n",
        "            in_pt=rotate2d(out_pt-center,theta)+center\n",
        "            if in_pt[0]>=0 and in_pt[0]<input_rows and in_pt[1]>=0 and in_pt[1]<input_cols:\n",
        "                output_image[i][j][:]=input_image[int(in_pt[0])][int(in_pt[1])][:]\n",
        "    pass\n",
        "    ### END YOUR CODE\n",
        "\n",
        "    # 3. Return the output image\n",
        "    return output_image"
      ],
      "execution_count": null,
      "outputs": []
    },
    {
      "cell_type": "code",
      "metadata": {
        "id": "SmDKwMCIE-Eu"
      },
      "source": [
        "## Test that your output matches the expected output\n",
        "display(rotate_image(image1, np.pi / 6.0))\n",
        "# print(3//2)"
      ],
      "execution_count": null,
      "outputs": []
    },
    {
      "cell_type": "markdown",
      "metadata": {
        "id": "gTqJn8pbcvWQ"
      },
      "source": [
        "Congrats You've come to the end of this notebook. If you solved everything above, impressive. If not, you might need to read/think a bit more. You can always ask doubts. Also, Note that you should submit it even if you cannot solve everything. We might evaluate these using a script later."
      ]
    },
    {
      "source": [
        "THANK YOU for this wonderful notebbok. I learned a lot of things."
      ],
      "cell_type": "markdown",
      "metadata": {
        "id": "LLF2Su9hdda7"
      }
    }
  ]
}